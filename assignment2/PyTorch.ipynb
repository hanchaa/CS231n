{
 "nbformat_minor": 0,
 "nbformat": 4,
 "cells": [
  {
   "source": [
    "# Training a ConvNet PyTorch\n",
    "\n",
    "In this notebook, you'll learn how to use the powerful PyTorch framework to specify a conv net architecture and train it on the CIFAR-10 dataset."
   ],
   "cell_type": "markdown",
   "metadata": {}
  },
  {
   "execution_count": 2,
   "cell_type": "code",
   "source": [
    "import torch\n",
    "import torch.nn as nn\n",
    "import torch.optim as optim\n",
    "from torch.autograd import Variable\n",
    "from torch.utils.data import DataLoader\n",
    "from torch.utils.data import sampler\n",
    "\n",
    "import torchvision.datasets as dset\n",
    "import torchvision.transforms as T\n",
    "\n",
    "import numpy as np\n",
    "\n",
    "import timeit"
   ],
   "outputs": [],
   "metadata": {
    "collapsed": false
   }
  },
  {
   "source": [
    "## What's this PyTorch business?\n",
    "\n",
    "You've written a lot of code in this assignment to provide a whole host of neural network functionality. Dropout, Batch Norm, and 2D convolutions are some of the workhorses of deep learning in computer vision. You've also worked hard to make your code efficient and vectorized.\n",
    "\n",
    "For the last part of this assignment, though, we're going to leave behind your beautiful codebase and instead migrate to one of two popular deep learning frameworks: in this instance, PyTorch (or TensorFlow, if you switch over to that notebook). \n",
    "\n",
    "Why?\n",
    "\n",
    "* Our code will now run on GPUs! Much faster training. When using a framework like PyTorch or TensorFlow you can harness the power of the GPU for your own custom neural network architectures without having to write CUDA code directly (which is beyond the scope of this class).\n",
    "* We want you to be ready to use one of these frameworks for your project so you can experiment more efficiently than if you were writing every feature you want to use by hand. \n",
    "* We want you to stand on the shoulders of giants! TensorFlow and PyTorch are both excellent frameworks that will make your lives a lot easier, and now that you understand their guts, you are free to use them :) \n",
    "* We want you to be exposed to the sort of deep learning code you might run into in academia or industry. "
   ],
   "cell_type": "markdown",
   "metadata": {}
  },
  {
   "source": [
    "## How will I learn PyTorch?\n",
    "\n",
    "If you've used Torch before, but are new to PyTorch, this tutorial might be of use: http://pytorch.org/tutorials/beginner/former_torchies_tutorial.html\n",
    "\n",
    "Otherwise, this notebook will walk you through much of what you need to do to train models in Torch. See the end of the notebook for some links to helpful tutorials if you want to learn more or need further clarification on topics that aren't fully explained here."
   ],
   "cell_type": "markdown",
   "metadata": {}
  },
  {
   "source": [
    "## Load Datasets\n",
    "\n",
    "We load the CIFAR-10 dataset. This might take a couple minutes the first time you do it, but the files should stay cached after that."
   ],
   "cell_type": "markdown",
   "metadata": {}
  },
  {
   "execution_count": 3,
   "cell_type": "code",
   "source": [
    "class ChunkSampler(sampler.Sampler):\n",
    "    \"\"\"Samples elements sequentially from some offset. \n",
    "    Arguments:\n",
    "        num_samples: # of desired datapoints\n",
    "        start: offset where we should start selecting from\n",
    "    \"\"\"\n",
    "    def __init__(self, num_samples, start = 0):\n",
    "        self.num_samples = num_samples\n",
    "        self.start = start\n",
    "\n",
    "    def __iter__(self):\n",
    "        return iter(range(self.start, self.start + self.num_samples))\n",
    "\n",
    "    def __len__(self):\n",
    "        return self.num_samples\n",
    "\n",
    "NUM_TRAIN = 49000\n",
    "NUM_VAL = 1000\n",
    "\n",
    "cifar10_train = dset.CIFAR10('./cs231n/datasets', train=True, download=True,\n",
    "                           transform=T.ToTensor())\n",
    "loader_train = DataLoader(cifar10_train, batch_size=64, sampler=ChunkSampler(NUM_TRAIN, 0))\n",
    "\n",
    "cifar10_val = dset.CIFAR10('./cs231n/datasets', train=True, download=True,\n",
    "                           transform=T.ToTensor())\n",
    "loader_val = DataLoader(cifar10_val, batch_size=64, sampler=ChunkSampler(NUM_VAL, NUM_TRAIN))\n",
    "\n",
    "cifar10_test = dset.CIFAR10('./cs231n/datasets', train=False, download=True,\n",
    "                          transform=T.ToTensor())\n",
    "loader_test = DataLoader(cifar10_test, batch_size=64)\n"
   ],
   "outputs": [
    {
     "name": "stdout",
     "output_type": "stream",
     "text": [
      "Files already downloaded and verified\n",
      "Files already downloaded and verified\n",
      "Files already downloaded and verified\n"
     ]
    }
   ],
   "metadata": {
    "collapsed": false
   }
  },
  {
   "source": [
    "For now, we're going to use a CPU-friendly datatype. Later, we'll switch to a datatype that will move all our computations to the GPU and measure the speedup."
   ],
   "cell_type": "markdown",
   "metadata": {}
  },
  {
   "execution_count": 4,
   "cell_type": "code",
   "source": [
    "dtype = torch.FloatTensor # the CPU datatype\n",
    "\n",
    "# Constant to control how frequently we print train loss\n",
    "print_every = 100\n",
    "\n",
    "# This is a little utility that we'll use to reset the model\n",
    "# if we want to re-initialize all our parameters\n",
    "def reset(m):\n",
    "    if hasattr(m, 'reset_parameters'):\n",
    "        m.reset_parameters()"
   ],
   "outputs": [],
   "metadata": {
    "collapsed": true
   }
  },
  {
   "source": [
    "## Example Model\n",
    "\n",
    "### Some assorted tidbits\n",
    "\n",
    "Let's start by looking at a simple model. First, note that PyTorch operates on Tensors, which are n-dimensional arrays functionally analogous to numpy's ndarrays, with the additional feature that they can be used for computations on GPUs.\n",
    "\n",
    "We'll provide you with a Flatten function, which we explain here. Remember that our image data (and more relevantly, our intermediate feature maps) are initially N x C x H x W, where:\n",
    "* N is the number of datapoints\n",
    "* C is the number of channels\n",
    "* H is the height of the intermediate feature map in pixels\n",
    "* W is the height of the intermediate feature map in pixels\n",
    "\n",
    "This is the right way to represent the data when we are doing something like a 2D convolution, that needs spatial understanding of where the intermediate features are relative to each other. When we input  data into fully connected affine layers, however, we want each datapoint to be represented by a single vector -- it's no longer useful to segregate the different channels, rows, and columns of the data. So, we use a \"Flatten\" operation to collapse the C x H x W values per representation into a single long vector. The Flatten function below first reads in the N, C, H, and W values from a given batch of data, and then returns a \"view\" of that data. \"View\" is analogous to numpy's \"reshape\" method: it reshapes x's dimensions to be N x ??, where ?? is allowed to be anything (in this case, it will be C x H x W, but we don't need to specify that explicitly). "
   ],
   "cell_type": "markdown",
   "metadata": {}
  },
  {
   "execution_count": 5,
   "cell_type": "code",
   "source": [
    "class Flatten(nn.Module):\n",
    "    def forward(self, x):\n",
    "        N, C, H, W = x.size() # read in N, C, H, W\n",
    "        return x.view(N, -1)  # \"flatten\" the C * H * W values into a single vector per image"
   ],
   "outputs": [],
   "metadata": {
    "collapsed": true
   }
  },
  {
   "source": [
    "### The example model itself\n",
    "\n",
    "The first step to training your own model is defining its architecture.\n",
    "\n",
    "Here's an example of a convolutional neural network defined in PyTorch -- try to understand what each line is doing, remembering that each layer is composed upon the previous layer. We haven't trained anything yet - that'll come next - for now, we want you to understand how everything gets set up.  nn.Sequential is a container which applies each layer\n",
    "one after the other.\n",
    "\n",
    "In that example, you see 2D convolutional layers (Conv2d), ReLU activations, and fully-connected layers (Linear). You also see the Cross-Entropy loss function, and the Adam optimizer being used. \n",
    "\n",
    "Make sure you understand why the parameters of the Linear layer are 5408 and 10.\n"
   ],
   "cell_type": "markdown",
   "metadata": {}
  },
  {
   "execution_count": 6,
   "cell_type": "code",
   "source": [
    "# Here's where we define the architecture of the model... \n",
    "simple_model = nn.Sequential(\n",
    "                nn.Conv2d(3, 32, kernel_size=7, stride=2),\n",
    "                nn.ReLU(inplace=True),\n",
    "                Flatten(), # see above for explanation\n",
    "                nn.Linear(5408, 10), # affine layer\n",
    "              )\n",
    "\n",
    "# Set the type of all data in this model to be FloatTensor \n",
    "simple_model.type(dtype)\n",
    "\n",
    "loss_fn = nn.CrossEntropyLoss().type(dtype)\n",
    "optimizer = optim.Adam(simple_model.parameters(), lr=1e-2) # lr sets the learning rate of the optimizer"
   ],
   "outputs": [],
   "metadata": {
    "collapsed": false
   }
  },
  {
   "source": [
    "PyTorch supports many other layer types, loss functions, and optimizers - you will experiment with these next. Here's the official API documentation for these (if any of the parameters used above were unclear, this resource will also be helpful). One note: what we call in the class \"spatial batch norm\" is called \"BatchNorm2D\" in PyTorch.\n",
    "\n",
    "* Layers: http://pytorch.org/docs/nn.html\n",
    "* Activations: http://pytorch.org/docs/nn.html#non-linear-activations\n",
    "* Loss functions: http://pytorch.org/docs/nn.html#loss-functions\n",
    "* Optimizers: http://pytorch.org/docs/optim.html#algorithms"
   ],
   "cell_type": "markdown",
   "metadata": {}
  },
  {
   "source": [
    "## Training a specific model\n",
    "\n",
    "In this section, we're going to specify a model for you to construct. The goal here isn't to get good performance (that'll be next), but instead to get comfortable with understanding the PyTorch documentation and configuring your own model. \n",
    "\n",
    "Using the code provided above as guidance, and using the following PyTorch documentation, specify a model with the following architecture:\n",
    "\n",
    "* 7x7 Convolutional Layer with 32 filters and stride of 1\n",
    "* ReLU Activation Layer\n",
    "* Spatial Batch Normalization Layer\n",
    "* 2x2 Max Pooling layer with a stride of 2\n",
    "* Affine layer with 1024 output units\n",
    "* ReLU Activation Layer\n",
    "* Affine layer from 1024 input units to 10 outputs\n",
    "\n",
    "And finally, set up a **cross-entropy** loss function and the **RMSprop** learning rule."
   ],
   "cell_type": "markdown",
   "metadata": {}
  },
  {
   "execution_count": 7,
   "cell_type": "code",
   "source": [
    "fixed_model_base = nn.Sequential( # You fill this in!\n",
    "                        nn.Conv2d(3, 32, kernel_size=7, stride=1),\n",
    "                        nn.ReLU(inplace=True),\n",
    "                        nn.BatchNorm2d(32),\n",
    "                        nn.MaxPool2d(2, stride=2),\n",
    "                        Flatten(),\n",
    "                        nn.Linear(5408, 1024),\n",
    "                        nn.ReLU(inplace=True),\n",
    "                        nn.Linear(1024, 10)\n",
    "                    )\n",
    "\n",
    "fixed_model = fixed_model_base.type(dtype)\n",
    "\n",
    "loss_fn = nn.CrossEntropyLoss().type(dtype)\n",
    "optimizer = optim.RMSprop(fixed_model.parameters(), lr=1e-2)"
   ],
   "outputs": [],
   "metadata": {
    "collapsed": false
   }
  },
  {
   "source": [
    "To make sure you're doing the right thing, use the following tool to check the dimensionality of your output (it should be 64 x 10, since our batches have size 64 and the output of the final affine layer should be 10, corresponding to our 10 classes):"
   ],
   "cell_type": "markdown",
   "metadata": {}
  },
  {
   "execution_count": 8,
   "cell_type": "code",
   "source": [
    "## Now we're going to feed a random batch into the model you defined and make sure the output is the right size\n",
    "x = torch.randn(64, 3, 32, 32).type(dtype)\n",
    "x_var = Variable(x.type(dtype)) # Construct a PyTorch Variable out of your input data\n",
    "ans = fixed_model(x_var)        # Feed it through the model! \n",
    "\n",
    "# Check to make sure what comes out of your model\n",
    "# is the right dimensionality... this should be True\n",
    "# if you've done everything correctly\n",
    "np.array_equal(np.array(ans.size()), np.array([64, 10]))       "
   ],
   "outputs": [
    {
     "name": "stderr",
     "output_type": "stream",
     "text": [
      "C:\\Users\\hanchaa\\anaconda3\\envs\\cs231n\\lib\\site-packages\\torch\\nn\\functional.py:718: UserWarning: Named tensors and all their associated APIs are an experimental feature and subject to change. Please do not use them for anything important until they are released as stable. (Triggered internally at  ..\\c10/core/TensorImpl.h:1156.)\n",
      "  return torch.max_pool2d(input, kernel_size, stride, padding, dilation, ceil_mode)\n"
     ]
    },
    {
     "data": {
      "text/plain": "True"
     },
     "execution_count": 8,
     "metadata": {},
     "output_type": "execute_result"
    }
   ],
   "metadata": {
    "collapsed": false
   }
  },
  {
   "source": [
    "### GPU!\n",
    "\n",
    "Now, we're going to switch the dtype of the model and our data to the GPU-friendly tensors, and see what happens... everything is the same, except we are casting our model and input tensors as this new dtype instead of the old one.\n",
    "\n",
    "If this returns false, or otherwise fails in a not-graceful way (i.e., with some error message), you may not have an NVIDIA GPU available on your machine. If you're running locally, we recommend you switch to Google Cloud and follow the instructions to set up a GPU there. If you're already on Google Cloud, something is wrong -- make sure you followed the instructions on how to request and use a GPU on your instance. If you did, post on Piazza or come to Office Hours so we can help you debug."
   ],
   "cell_type": "markdown",
   "metadata": {}
  },
  {
   "execution_count": 9,
   "cell_type": "code",
   "source": [
    "# Verify that CUDA is properly configured and you have a GPU available\n",
    "\n",
    "torch.cuda.is_available()"
   ],
   "outputs": [
    {
     "data": {
      "text/plain": "True"
     },
     "execution_count": 9,
     "metadata": {},
     "output_type": "execute_result"
    }
   ],
   "metadata": {
    "collapsed": false
   }
  },
  {
   "execution_count": 10,
   "cell_type": "code",
   "source": [
    "import copy\n",
    "gpu_dtype = torch.cuda.FloatTensor\n",
    "\n",
    "fixed_model_gpu = copy.deepcopy(fixed_model_base).type(gpu_dtype)\n",
    "\n",
    "x_gpu = torch.randn(64, 3, 32, 32).type(gpu_dtype)\n",
    "x_var_gpu = Variable(x.type(gpu_dtype)) # Construct a PyTorch Variable out of your input data\n",
    "ans = fixed_model_gpu(x_var_gpu)        # Feed it through the model! \n",
    "\n",
    "# Check to make sure what comes out of your model\n",
    "# is the right dimensionality... this should be True\n",
    "# if you've done everything correctly\n",
    "np.array_equal(np.array(ans.size()), np.array([64, 10]))"
   ],
   "outputs": [
    {
     "data": {
      "text/plain": "True"
     },
     "execution_count": 10,
     "metadata": {},
     "output_type": "execute_result"
    }
   ],
   "metadata": {
    "collapsed": false
   }
  },
  {
   "source": [
    "Run the following cell to evaluate the performance of the forward pass running on the CPU:"
   ],
   "cell_type": "markdown",
   "metadata": {}
  },
  {
   "execution_count": 11,
   "cell_type": "code",
   "source": [
    "%%timeit \n",
    "ans = fixed_model(x_var)"
   ],
   "outputs": [
    {
     "name": "stdout",
     "output_type": "stream",
     "text": [
      "10.3 ms ± 125 µs per loop (mean ± std. dev. of 7 runs, 100 loops each)\n"
     ]
    }
   ],
   "metadata": {
    "collapsed": false
   }
  },
  {
   "source": [
    "... and now the GPU:"
   ],
   "cell_type": "markdown",
   "metadata": {}
  },
  {
   "execution_count": 12,
   "cell_type": "code",
   "source": [
    "%%timeit \n",
    "torch.cuda.synchronize() # Make sure there are no pending GPU computations\n",
    "ans = fixed_model_gpu(x_var_gpu)        # Feed it through the model! \n",
    "torch.cuda.synchronize() # Make sure there are no pending GPU computations"
   ],
   "outputs": [
    {
     "name": "stdout",
     "output_type": "stream",
     "text": [
      "623 µs ± 5.45 µs per loop (mean ± std. dev. of 7 runs, 1000 loops each)\n"
     ]
    }
   ],
   "metadata": {
    "collapsed": false
   }
  },
  {
   "source": [
    "You should observe that even a simple forward pass like this is significantly faster on the GPU. So for the rest of the assignment (and when you go train your models in assignment 3 and your project!), you should use the GPU datatype for your model and your tensors: as a reminder that is *torch.cuda.FloatTensor* (in our notebook here as *gpu_dtype*)"
   ],
   "cell_type": "markdown",
   "metadata": {}
  },
  {
   "source": [
    "### Train the model.\n",
    "\n",
    "Now that you've seen how to define a model and do a single forward pass of some data through it, let's  walk through how you'd actually train one whole epoch over your training data (using the simple_model we provided above).\n",
    "\n",
    "Make sure you understand how each PyTorch function used below corresponds to what you implemented in your custom neural network implementation.\n",
    "\n",
    "Note that because we are not resetting the weights anywhere below, if you run the cell multiple times, you are effectively training multiple epochs (so your performance should improve).\n",
    "\n",
    "First, set up an RMSprop optimizer (using a 1e-3 learning rate) and a cross-entropy loss function:"
   ],
   "cell_type": "markdown",
   "metadata": {}
  },
  {
   "execution_count": 13,
   "cell_type": "code",
   "source": [
    "loss_fn = nn.CrossEntropyLoss().type(gpu_dtype)\n",
    "optimizer = optim.RMSprop(fixed_model_gpu.parameters(), lr=1e-3)"
   ],
   "outputs": [],
   "metadata": {
    "collapsed": true
   }
  },
  {
   "execution_count": 14,
   "cell_type": "code",
   "source": [
    "# This sets the model in \"training\" mode. This is relevant for some layers that may have different behavior\n",
    "# in training mode vs testing mode, such as Dropout and BatchNorm. \n",
    "fixed_model_gpu.train()\n",
    "\n",
    "# Load one batch at a time.\n",
    "for t, (x, y) in enumerate(loader_train):\n",
    "    x_var = Variable(x.type(gpu_dtype))\n",
    "    y_var = Variable(y.type(gpu_dtype).long())\n",
    "\n",
    "    # This is the forward pass: predict the scores for each class, for each x in the batch.\n",
    "    scores = fixed_model_gpu(x_var)\n",
    "    \n",
    "    # Use the correct y values and the predicted y values to compute the loss.\n",
    "    loss = loss_fn(scores, y_var)\n",
    "    \n",
    "    if (t + 1) % print_every == 0:\n",
    "        print('t = %d, loss = %.4f' % (t + 1, loss.item()))\n",
    "\n",
    "    # Zero out all of the gradients for the variables which the optimizer will update.\n",
    "    optimizer.zero_grad()\n",
    "    \n",
    "    # This is the backwards pass: compute the gradient of the loss with respect to each \n",
    "    # parameter of the model.\n",
    "    loss.backward()\n",
    "    \n",
    "    # Actually update the parameters of the model using the gradients computed by the backwards pass.\n",
    "    optimizer.step()"
   ],
   "outputs": [
    {
     "name": "stdout",
     "output_type": "stream",
     "text": [
      "t = 100, loss = 1.4073\n",
      "t = 200, loss = 1.4822\n",
      "t = 300, loss = 1.5145\n",
      "t = 400, loss = 1.2244\n",
      "t = 500, loss = 1.2804\n",
      "t = 600, loss = 1.3806\n",
      "t = 700, loss = 1.2755\n"
     ]
    }
   ],
   "metadata": {
    "collapsed": false
   }
  },
  {
   "source": [
    "Now you've seen how the training process works in PyTorch. To save you writing boilerplate code, we're providing the following helper functions to help you train for multiple epochs and check the accuracy of your model:"
   ],
   "cell_type": "markdown",
   "metadata": {}
  },
  {
   "execution_count": 37,
   "cell_type": "code",
   "source": [
    "def train(model, loss_fn, optimizer, num_epochs = 1):\n",
    "    for epoch in range(num_epochs):\n",
    "        print('Starting epoch %d / %d' % (epoch + 1, num_epochs))\n",
    "        model.train()\n",
    "        for t, (x, y) in enumerate(loader_train):\n",
    "            x_var = Variable(x.type(gpu_dtype))\n",
    "            y_var = Variable(y.type(gpu_dtype).long())\n",
    "\n",
    "            scores = model(x_var)\n",
    "            \n",
    "            loss = loss_fn(scores, y_var)\n",
    "            if (t + 1) % print_every == 0:\n",
    "                print('t = %d, loss = %.4f' % (t + 1, loss.item()))\n",
    "\n",
    "            optimizer.zero_grad()\n",
    "            loss.backward()\n",
    "            optimizer.step()\n",
    "\n",
    "        num_correct = 0\n",
    "        num_samples = 0\n",
    "\n",
    "        model.eval() # Put the model in test mode (the opposite of model.train(), essentially)\n",
    "        for x, y in loader_train:\n",
    "            x_var = Variable(x.type(gpu_dtype), volatile=True)\n",
    "\n",
    "            scores = model(x_var)\n",
    "            _, preds = scores.data.cpu().max(1)\n",
    "            num_correct += (preds == y).sum()\n",
    "            num_samples += preds.size(0)\n",
    "        acc = float(num_correct) / num_samples\n",
    "        print('Got %d / %d correct (%.2f)' % (num_correct, num_samples, 100 * acc))\n",
    "\n",
    "def check_accuracy(model, loader):\n",
    "    if loader.dataset.train:\n",
    "        print('Checking accuracy on validation set')\n",
    "    else:\n",
    "        print('Checking accuracy on test set')   \n",
    "    num_correct = 0\n",
    "    num_samples = 0\n",
    "    model.eval() # Put the model in test mode (the opposite of model.train(), essentially)\n",
    "    for x, y in loader:\n",
    "        x_var = Variable(x.type(gpu_dtype), volatile=True)\n",
    "\n",
    "        scores = model(x_var)\n",
    "        _, preds = scores.data.cpu().max(1)\n",
    "        num_correct += (preds == y).sum()\n",
    "        num_samples += preds.size(0)\n",
    "    acc = float(num_correct) / num_samples\n",
    "    print('Got %d / %d correct (%.2f)' % (num_correct, num_samples, 100 * acc))\n",
    "\n",
    "    return acc"
   ],
   "outputs": [],
   "metadata": {
    "collapsed": true
   }
  },
  {
   "source": [
    "### Check the accuracy of the model.\n",
    "\n",
    "Let's see the train and check_accuracy code in action -- feel free to use these methods when evaluating the models you develop below.\n",
    "\n",
    "You should get a training loss of around 1.2-1.4, and a validation accuracy of around 50-60%. As mentioned above, if you re-run the cells, you'll be training more epochs, so your performance will improve past these numbers.\n",
    "\n",
    "But don't worry about getting these numbers better -- this was just practice before you tackle designing your own model."
   ],
   "cell_type": "markdown",
   "metadata": {}
  },
  {
   "execution_count": 16,
   "cell_type": "code",
   "source": [
    "torch.cuda.random.manual_seed(12345)\n",
    "fixed_model_gpu.apply(reset)\n",
    "train(fixed_model_gpu, loss_fn, optimizer, num_epochs=1)\n",
    "check_accuracy(fixed_model_gpu, loader_val)"
   ],
   "outputs": [
    {
     "name": "stdout",
     "output_type": "stream",
     "text": [
      "Starting epoch 1 / 1\n",
      "t = 100, loss = 1.3833\n",
      "t = 200, loss = 1.4579\n",
      "t = 300, loss = 1.3517\n",
      "t = 400, loss = 1.3212\n",
      "t = 500, loss = 1.2463\n",
      "t = 600, loss = 1.4187\n",
      "t = 700, loss = 1.4898\n",
      "Checking accuracy on validation set\n",
      "Got 555 / 1000 correct (55.50)\n"
     ]
    },
    {
     "name": "stderr",
     "output_type": "stream",
     "text": [
      "C:\\Users\\hanchaa\\anaconda3\\envs\\cs231n\\lib\\site-packages\\ipykernel_launcher.py:28: UserWarning: volatile was removed and now has no effect. Use `with torch.no_grad():` instead.\n"
     ]
    }
   ],
   "metadata": {
    "collapsed": false
   }
  },
  {
   "source": [
    "### Don't forget the validation set!\n",
    "\n",
    "And note that you can use the check_accuracy function to evaluate on either the test set or the validation set, by passing either **loader_test** or **loader_val** as the second argument to check_accuracy. You should not touch the test set until you have finished your architecture and hyperparameter tuning, and only run the test set once at the end to report a final value. "
   ],
   "cell_type": "markdown",
   "metadata": {}
  },
  {
   "source": [
    "## Train a _great_ model on CIFAR-10!\n",
    "\n",
    "Now it's your job to experiment with architectures, hyperparameters, loss functions, and optimizers to train a model that achieves **>=70%** accuracy on the CIFAR-10 **validation** set. You can use the check_accuracy and train functions from above."
   ],
   "cell_type": "markdown",
   "metadata": {}
  },
  {
   "source": [
    "### Things you should try:\n",
    "- **Filter size**: Above we used 7x7; this makes pretty pictures but smaller filters may be more efficient\n",
    "- **Number of filters**: Above we used 32 filters. Do more or fewer do better?\n",
    "- **Pooling vs Strided Convolution**: Do you use max pooling or just stride convolutions?\n",
    "- **Batch normalization**: Try adding spatial batch normalization after convolution layers and vanilla batch normalization after affine layers. Do your networks train faster?\n",
    "- **Network architecture**: The network above has two layers of trainable parameters. Can you do better with a deep network? Good architectures to try include:\n",
    "    - [conv-relu-pool]xN -> [affine]xM -> [softmax or SVM]\n",
    "    - [conv-relu-conv-relu-pool]xN -> [affine]xM -> [softmax or SVM]\n",
    "    - [batchnorm-relu-conv]xN -> [affine]xM -> [softmax or SVM]\n",
    "- **Global Average Pooling**: Instead of flattening and then having multiple affine layers, perform convolutions until your image gets small (7x7 or so) and then perform an average pooling operation to get to a 1x1 image picture (1, 1 , Filter#), which is then reshaped into a (Filter#) vector. This is used in [Google's Inception Network](https://arxiv.org/abs/1512.00567) (See Table 1 for their architecture).\n",
    "- **Regularization**: Add l2 weight regularization, or perhaps use Dropout.\n",
    "\n",
    "### Tips for training\n",
    "For each network architecture that you try, you should tune the learning rate and regularization strength. When doing this there are a couple important things to keep in mind:\n",
    "\n",
    "- If the parameters are working well, you should see improvement within a few hundred iterations\n",
    "- Remember the coarse-to-fine approach for hyperparameter tuning: start by testing a large range of hyperparameters for just a few training iterations to find the combinations of parameters that are working at all.\n",
    "- Once you have found some sets of parameters that seem to work, search more finely around these parameters. You may need to train for more epochs.\n",
    "- You should use the validation set for hyperparameter search, and save your test set for evaluating your architecture on the best parameters as selected by the validation set.\n",
    "\n",
    "### Going above and beyond\n",
    "If you are feeling adventurous there are many other features you can implement to try and improve your performance. You are **not required** to implement any of these; however they would be good things to try for extra credit.\n",
    "\n",
    "- Alternative update steps: For the assignment we implemented SGD+momentum, RMSprop, and Adam; you could try alternatives like AdaGrad or AdaDelta.\n",
    "- Alternative activation functions such as leaky ReLU, parametric ReLU, ELU, or MaxOut.\n",
    "- Model ensembles\n",
    "- Data augmentation\n",
    "- New Architectures\n",
    "  - [ResNets](https://arxiv.org/abs/1512.03385) where the input from the previous layer is added to the output.\n",
    "  - [DenseNets](https://arxiv.org/abs/1608.06993) where inputs into previous layers are concatenated together.\n",
    "  - [This blog has an in-depth overview](https://chatbotslife.com/resnets-highwaynets-and-densenets-oh-my-9bb15918ee32)\n",
    "\n",
    "If you do decide to implement something extra, clearly describe it in the \"Extra Credit Description\" cell below.\n",
    "\n",
    "### What we expect\n",
    "At the very least, you should be able to train a ConvNet that gets at least 70% accuracy on the validation set. This is just a lower bound - if you are careful it should be possible to get accuracies much higher than that! Extra credit points will be awarded for particularly high-scoring models or unique approaches.\n",
    "\n",
    "You should use the space below to experiment and train your network. \n",
    "\n",
    "Have fun and happy training!"
   ],
   "cell_type": "markdown",
   "metadata": {}
  },
  {
   "execution_count": 38,
   "cell_type": "code",
   "source": [
    "# Train your model here, and make sure the output of this cell is the accuracy of your best model on the \n",
    "# train, val, and test sets. Here's some code to get you started. The output of this cell should be the training\n",
    "# and validation accuracy on your best model (measured by validation accuracy).\n",
    "\n",
    "model = nn.Sequential(\n",
    "    nn.Conv2d(3, 64, kernel_size=3, stride=1, padding=1),\n",
    "    nn.ReLU(inplace=True),\n",
    "    nn.Conv2d(64, 64, kernel_size=3, stride=1, padding=1),\n",
    "    nn.ReLU(inplace=True),\n",
    "    nn.MaxPool2d(2, stride=2),\n",
    "    nn.Conv2d(64, 128, kernel_size=3, stride=1, padding=1),\n",
    "    nn.ReLU(inplace=True),\n",
    "    nn.Conv2d(128, 128, kernel_size=3, stride=1, padding=1),\n",
    "    nn.ReLU(inplace=True),\n",
    "    nn.MaxPool2d(2, stride=2),\n",
    "    nn.Conv2d(128, 256, kernel_size=3, stride=1, padding=1),\n",
    "    nn.ReLU(inplace=True),\n",
    "    nn.Conv2d(256, 256, kernel_size=3, stride=1, padding=1),\n",
    "    nn.ReLU(inplace=True),\n",
    "    nn.Conv2d(256, 256, kernel_size=3, stride=1, padding=1),\n",
    "    nn.ReLU(inplace=True),\n",
    "    nn.MaxPool2d(2, stride=2),\n",
    "    Flatten(),\n",
    "    nn.Dropout(0.5),\n",
    "    nn.Linear(4 * 4 * 256, 1024),\n",
    "    nn.Dropout(0.5),\n",
    "    nn.Linear(1024, 10)\n",
    ").type(gpu_dtype)\n",
    "\n",
    "loss_fn = nn.CrossEntropyLoss().type(gpu_dtype)\n",
    "\n",
    "best_val = -1\n",
    "best_model = None\n",
    "\n",
    "for i in range(10):\n",
    "    lr = np.random.uniform(5e-5, 5e-4)\n",
    "    print(\"learning rate: %e\" % lr)\n",
    "    optimizer = optim.RMSprop(model.parameters(), lr=lr)\n",
    "\n",
    "    model.apply(reset)\n",
    "    train(model, loss_fn, optimizer, num_epochs=5)\n",
    "    acc = check_accuracy(model, loader_val)\n",
    "\n",
    "    if acc > best_val:\n",
    "        best_val = acc\n",
    "        best_model = copy.deepcopy(model)\n",
    "\n",
    "    print()"
   ],
   "outputs": [
    {
     "name": "stdout",
     "output_type": "stream",
     "text": [
      "learning rate: 2.162196e-04\n",
      "Starting epoch 1 / 5\n",
      "t = 100, loss = 2.1330\n",
      "t = 200, loss = 1.9769\n",
      "t = 300, loss = 1.7918\n",
      "t = 400, loss = 1.5207\n",
      "t = 500, loss = 1.6488\n",
      "t = 600, loss = 1.7924\n",
      "t = 700, loss = 1.8367\n"
     ]
    },
    {
     "name": "stderr",
     "output_type": "stream",
     "text": [
      "C:\\Users\\hanchaa\\anaconda3\\envs\\cs231n\\lib\\site-packages\\ipykernel_launcher.py:24: UserWarning: volatile was removed and now has no effect. Use `with torch.no_grad():` instead.\n"
     ]
    },
    {
     "name": "stdout",
     "output_type": "stream",
     "text": [
      "Got 22885 / 49000 correct (46.70)\n",
      "Starting epoch 2 / 5\n",
      "t = 100, loss = 1.2683\n",
      "t = 200, loss = 1.4103\n",
      "t = 300, loss = 1.5477\n",
      "t = 400, loss = 1.1805\n",
      "t = 500, loss = 1.3548\n",
      "t = 600, loss = 1.3813\n",
      "t = 700, loss = 1.5854\n",
      "Got 29647 / 49000 correct (60.50)\n",
      "Starting epoch 3 / 5\n",
      "t = 100, loss = 1.0932\n",
      "t = 200, loss = 1.0587\n",
      "t = 300, loss = 1.3570\n",
      "t = 400, loss = 0.9789\n",
      "t = 500, loss = 1.0486\n",
      "t = 600, loss = 1.1341\n",
      "t = 700, loss = 1.3933\n",
      "Got 33711 / 49000 correct (68.80)\n",
      "Starting epoch 4 / 5\n",
      "t = 100, loss = 0.9449\n",
      "t = 200, loss = 0.7985\n",
      "t = 300, loss = 1.0732\n",
      "t = 400, loss = 0.7516\n",
      "t = 500, loss = 0.9329\n",
      "t = 600, loss = 1.0152\n",
      "t = 700, loss = 1.1487\n",
      "Got 36247 / 49000 correct (73.97)\n",
      "Starting epoch 5 / 5\n",
      "t = 100, loss = 0.7086\n",
      "t = 200, loss = 0.7322\n",
      "t = 300, loss = 0.9421\n",
      "t = 400, loss = 0.7367\n",
      "t = 500, loss = 0.8602\n",
      "t = 600, loss = 0.9126\n",
      "t = 700, loss = 0.9115\n",
      "Got 37834 / 49000 correct (77.21)\n",
      "Checking accuracy on validation set\n",
      "Got 743 / 1000 correct (74.30)\n",
      "\n",
      "learning rate: 3.042688e-04\n",
      "Starting epoch 1 / 5\n"
     ]
    },
    {
     "name": "stderr",
     "output_type": "stream",
     "text": [
      "C:\\Users\\hanchaa\\anaconda3\\envs\\cs231n\\lib\\site-packages\\ipykernel_launcher.py:42: UserWarning: volatile was removed and now has no effect. Use `with torch.no_grad():` instead.\n"
     ]
    },
    {
     "name": "stdout",
     "output_type": "stream",
     "text": [
      "t = 100, loss = 2.1000\n",
      "t = 200, loss = 2.1529\n",
      "t = 300, loss = 1.7955\n",
      "t = 400, loss = 1.5548\n",
      "t = 500, loss = 1.5792\n",
      "t = 600, loss = 1.7077\n",
      "t = 700, loss = 1.8740\n",
      "Got 21625 / 49000 correct (44.13)\n",
      "Starting epoch 2 / 5\n",
      "t = 100, loss = 1.3704\n",
      "t = 200, loss = 1.3892\n",
      "t = 300, loss = 1.4681\n",
      "t = 400, loss = 1.1881\n",
      "t = 500, loss = 1.2523\n",
      "t = 600, loss = 1.2427\n",
      "t = 700, loss = 1.7532\n",
      "Got 30240 / 49000 correct (61.71)\n",
      "Starting epoch 3 / 5\n",
      "t = 100, loss = 1.0201\n",
      "t = 200, loss = 1.1298\n",
      "t = 300, loss = 1.2089\n",
      "t = 400, loss = 0.8411\n",
      "t = 500, loss = 1.0966\n",
      "t = 600, loss = 0.9868\n",
      "t = 700, loss = 1.4455\n",
      "Got 34827 / 49000 correct (71.08)\n",
      "Starting epoch 4 / 5\n",
      "t = 100, loss = 0.8158\n",
      "t = 200, loss = 0.8948\n",
      "t = 300, loss = 0.9150\n",
      "t = 400, loss = 0.7997\n",
      "t = 500, loss = 0.8885\n",
      "t = 600, loss = 0.8151\n",
      "t = 700, loss = 1.1280\n",
      "Got 37482 / 49000 correct (76.49)\n",
      "Starting epoch 5 / 5\n",
      "t = 100, loss = 0.6644\n",
      "t = 200, loss = 0.7496\n",
      "t = 300, loss = 0.7230\n",
      "t = 400, loss = 0.6797\n",
      "t = 500, loss = 0.7214\n",
      "t = 600, loss = 0.6181\n",
      "t = 700, loss = 0.7810\n",
      "Got 38831 / 49000 correct (79.25)\n",
      "Checking accuracy on validation set\n",
      "Got 760 / 1000 correct (76.00)\n",
      "\n",
      "learning rate: 3.184793e-04\n",
      "Starting epoch 1 / 5\n",
      "t = 100, loss = 2.3062\n",
      "t = 200, loss = 2.0866\n",
      "t = 300, loss = 1.8908\n",
      "t = 400, loss = 1.6264\n",
      "t = 500, loss = 1.7185\n",
      "t = 600, loss = 1.7603\n",
      "t = 700, loss = 1.7788\n",
      "Got 23561 / 49000 correct (48.08)\n",
      "Starting epoch 2 / 5\n",
      "t = 100, loss = 1.3388\n",
      "t = 200, loss = 1.3888\n",
      "t = 300, loss = 1.4721\n",
      "t = 400, loss = 1.2230\n",
      "t = 500, loss = 1.3451\n",
      "t = 600, loss = 1.2578\n",
      "t = 700, loss = 1.4311\n",
      "Got 29073 / 49000 correct (59.33)\n",
      "Starting epoch 3 / 5\n",
      "t = 100, loss = 1.1452\n",
      "t = 200, loss = 0.9993\n",
      "t = 300, loss = 1.1614\n",
      "t = 400, loss = 0.9262\n",
      "t = 500, loss = 0.9009\n",
      "t = 600, loss = 0.9148\n",
      "t = 700, loss = 1.1023\n",
      "Got 34507 / 49000 correct (70.42)\n",
      "Starting epoch 4 / 5\n",
      "t = 100, loss = 0.8558\n",
      "t = 200, loss = 0.7731\n",
      "t = 300, loss = 0.8366\n",
      "t = 400, loss = 0.6862\n",
      "t = 500, loss = 0.8396\n",
      "t = 600, loss = 0.7276\n",
      "t = 700, loss = 0.9328\n",
      "Got 36826 / 49000 correct (75.16)\n",
      "Starting epoch 5 / 5\n",
      "t = 100, loss = 0.6776\n",
      "t = 200, loss = 0.6829\n",
      "t = 300, loss = 0.6599\n",
      "t = 400, loss = 0.6557\n",
      "t = 500, loss = 0.6619\n",
      "t = 600, loss = 0.5542\n",
      "t = 700, loss = 0.7603\n",
      "Got 38992 / 49000 correct (79.58)\n",
      "Checking accuracy on validation set\n",
      "Got 759 / 1000 correct (75.90)\n",
      "\n",
      "learning rate: 9.988186e-05\n",
      "Starting epoch 1 / 5\n",
      "t = 100, loss = 2.0307\n",
      "t = 200, loss = 2.0014\n",
      "t = 300, loss = 1.7985\n",
      "t = 400, loss = 1.6328\n",
      "t = 500, loss = 1.5891\n",
      "t = 600, loss = 1.6931\n",
      "t = 700, loss = 1.7911\n",
      "Got 21625 / 49000 correct (44.13)\n",
      "Starting epoch 2 / 5\n",
      "t = 100, loss = 1.3640\n",
      "t = 200, loss = 1.4719\n",
      "t = 300, loss = 1.5271\n",
      "t = 400, loss = 1.4131\n",
      "t = 500, loss = 1.3698\n",
      "t = 600, loss = 1.4660\n",
      "t = 700, loss = 1.7867\n",
      "Got 24299 / 49000 correct (49.59)\n",
      "Starting epoch 3 / 5\n",
      "t = 100, loss = 1.1587\n",
      "t = 200, loss = 1.2229\n",
      "t = 300, loss = 1.5201\n",
      "t = 400, loss = 1.2840\n",
      "t = 500, loss = 1.2950\n",
      "t = 600, loss = 1.2851\n",
      "t = 700, loss = 1.5867\n",
      "Got 28465 / 49000 correct (58.09)\n",
      "Starting epoch 4 / 5\n",
      "t = 100, loss = 1.0723\n",
      "t = 200, loss = 1.0085\n",
      "t = 300, loss = 1.3664\n",
      "t = 400, loss = 1.1272\n",
      "t = 500, loss = 1.1855\n",
      "t = 600, loss = 1.1354\n",
      "t = 700, loss = 1.5003\n",
      "Got 31208 / 49000 correct (63.69)\n",
      "Starting epoch 5 / 5\n",
      "t = 100, loss = 0.9442\n",
      "t = 200, loss = 0.8993\n",
      "t = 300, loss = 1.2745\n",
      "t = 400, loss = 0.9973\n",
      "t = 500, loss = 0.9803\n",
      "t = 600, loss = 1.0490\n",
      "t = 700, loss = 1.3420\n",
      "Got 33922 / 49000 correct (69.23)\n",
      "Checking accuracy on validation set\n",
      "Got 697 / 1000 correct (69.70)\n",
      "\n",
      "learning rate: 2.803560e-04\n",
      "Starting epoch 1 / 5\n",
      "t = 100, loss = 2.3093\n",
      "t = 200, loss = 2.0603\n",
      "t = 300, loss = 1.9098\n",
      "t = 400, loss = 1.5873\n",
      "t = 500, loss = 1.5424\n",
      "t = 600, loss = 1.6621\n",
      "t = 700, loss = 1.9816\n",
      "Got 22942 / 49000 correct (46.82)\n",
      "Starting epoch 2 / 5\n",
      "t = 100, loss = 1.3283\n",
      "t = 200, loss = 1.4006\n",
      "t = 300, loss = 1.7484\n",
      "t = 400, loss = 1.3082\n",
      "t = 500, loss = 1.2979\n",
      "t = 600, loss = 1.2829\n",
      "t = 700, loss = 1.5488\n",
      "Got 28138 / 49000 correct (57.42)\n",
      "Starting epoch 3 / 5\n",
      "t = 100, loss = 1.1457\n",
      "t = 200, loss = 1.0244\n",
      "t = 300, loss = 1.2072\n",
      "t = 400, loss = 1.0072\n",
      "t = 500, loss = 0.9053\n",
      "t = 600, loss = 1.0657\n",
      "t = 700, loss = 1.3493\n",
      "Got 33206 / 49000 correct (67.77)\n",
      "Starting epoch 4 / 5\n",
      "t = 100, loss = 0.8906\n",
      "t = 200, loss = 0.9174\n",
      "t = 300, loss = 1.1126\n",
      "t = 400, loss = 0.7994\n",
      "t = 500, loss = 0.7318\n",
      "t = 600, loss = 0.9415\n",
      "t = 700, loss = 0.9588\n",
      "Got 36641 / 49000 correct (74.78)\n",
      "Starting epoch 5 / 5\n",
      "t = 100, loss = 0.7312\n",
      "t = 200, loss = 0.7260\n",
      "t = 300, loss = 0.8860\n",
      "t = 400, loss = 0.6279\n",
      "t = 500, loss = 0.7352\n",
      "t = 600, loss = 0.6809\n",
      "t = 700, loss = 0.8782\n",
      "Got 38833 / 49000 correct (79.25)\n",
      "Checking accuracy on validation set\n",
      "Got 762 / 1000 correct (76.20)\n",
      "\n",
      "learning rate: 1.753703e-04\n",
      "Starting epoch 1 / 5\n",
      "t = 100, loss = 2.1434\n",
      "t = 200, loss = 1.9808\n",
      "t = 300, loss = 1.8537\n",
      "t = 400, loss = 1.6344\n",
      "t = 500, loss = 1.5585\n",
      "t = 600, loss = 1.6714\n",
      "t = 700, loss = 1.8795\n",
      "Got 22116 / 49000 correct (45.13)\n",
      "Starting epoch 2 / 5\n",
      "t = 100, loss = 1.3291\n",
      "t = 200, loss = 1.4248\n",
      "t = 300, loss = 1.4655\n",
      "t = 400, loss = 1.3240\n",
      "t = 500, loss = 1.3186\n",
      "t = 600, loss = 1.3171\n",
      "t = 700, loss = 1.6027\n",
      "Got 27371 / 49000 correct (55.86)\n",
      "Starting epoch 3 / 5\n",
      "t = 100, loss = 1.1050\n",
      "t = 200, loss = 1.0837\n",
      "t = 300, loss = 1.2591\n",
      "t = 400, loss = 1.1054\n",
      "t = 500, loss = 1.0048\n",
      "t = 600, loss = 1.0667\n",
      "t = 700, loss = 1.4430\n",
      "Got 32821 / 49000 correct (66.98)\n",
      "Starting epoch 4 / 5\n",
      "t = 100, loss = 0.9060\n",
      "t = 200, loss = 0.8998\n",
      "t = 300, loss = 1.0352\n",
      "t = 400, loss = 0.9125\n",
      "t = 500, loss = 0.8721\n",
      "t = 600, loss = 0.9100\n",
      "t = 700, loss = 1.2038\n",
      "Got 34717 / 49000 correct (70.85)\n",
      "Starting epoch 5 / 5\n",
      "t = 100, loss = 0.7736\n",
      "t = 200, loss = 0.8491\n",
      "t = 300, loss = 0.8955\n",
      "t = 400, loss = 0.7069\n",
      "t = 500, loss = 0.7784\n",
      "t = 600, loss = 0.6389\n",
      "t = 700, loss = 1.0439\n",
      "Got 36981 / 49000 correct (75.47)\n",
      "Checking accuracy on validation set\n",
      "Got 736 / 1000 correct (73.60)\n",
      "\n",
      "learning rate: 2.116295e-04\n",
      "Starting epoch 1 / 5\n",
      "t = 100, loss = 2.1092\n",
      "t = 200, loss = 2.0198\n",
      "t = 300, loss = 1.7395\n",
      "t = 400, loss = 1.5731\n",
      "t = 500, loss = 1.6097\n",
      "t = 600, loss = 1.6447\n",
      "t = 700, loss = 1.7591\n",
      "Got 22789 / 49000 correct (46.51)\n",
      "Starting epoch 2 / 5\n",
      "t = 100, loss = 1.3619\n",
      "t = 200, loss = 1.3999\n",
      "t = 300, loss = 1.5066\n",
      "t = 400, loss = 1.2743\n",
      "t = 500, loss = 1.3767\n",
      "t = 600, loss = 1.3470\n",
      "t = 700, loss = 1.6047\n",
      "Got 28938 / 49000 correct (59.06)\n",
      "Starting epoch 3 / 5\n",
      "t = 100, loss = 1.1231\n",
      "t = 200, loss = 1.1698\n",
      "t = 300, loss = 1.3100\n",
      "t = 400, loss = 1.0049\n",
      "t = 500, loss = 1.1182\n",
      "t = 600, loss = 1.1489\n",
      "t = 700, loss = 1.3871\n",
      "Got 32895 / 49000 correct (67.13)\n",
      "Starting epoch 4 / 5\n",
      "t = 100, loss = 1.0032\n",
      "t = 200, loss = 0.9245\n",
      "t = 300, loss = 1.0142\n",
      "t = 400, loss = 0.8232\n",
      "t = 500, loss = 0.9413\n",
      "t = 600, loss = 0.9099\n",
      "t = 700, loss = 1.0779\n",
      "Got 35051 / 49000 correct (71.53)\n",
      "Starting epoch 5 / 5\n",
      "t = 100, loss = 0.7754\n",
      "t = 200, loss = 0.8557\n",
      "t = 300, loss = 0.8582\n",
      "t = 400, loss = 0.7152\n",
      "t = 500, loss = 0.7176\n",
      "t = 600, loss = 0.8043\n",
      "t = 700, loss = 0.9378\n",
      "Got 37136 / 49000 correct (75.79)\n",
      "Checking accuracy on validation set\n",
      "Got 739 / 1000 correct (73.90)\n",
      "\n",
      "learning rate: 2.137659e-04\n",
      "Starting epoch 1 / 5\n",
      "t = 100, loss = 2.2953\n",
      "t = 200, loss = 1.9321\n",
      "t = 300, loss = 1.8066\n",
      "t = 400, loss = 1.5994\n",
      "t = 500, loss = 1.6102\n",
      "t = 600, loss = 1.7305\n",
      "t = 700, loss = 1.8756\n",
      "Got 22942 / 49000 correct (46.82)\n",
      "Starting epoch 2 / 5\n",
      "t = 100, loss = 1.3346\n",
      "t = 200, loss = 1.4394\n",
      "t = 300, loss = 1.5001\n",
      "t = 400, loss = 1.3490\n",
      "t = 500, loss = 1.3958\n",
      "t = 600, loss = 1.3804\n",
      "t = 700, loss = 1.6363\n",
      "Got 28403 / 49000 correct (57.97)\n",
      "Starting epoch 3 / 5\n",
      "t = 100, loss = 1.0943\n",
      "t = 200, loss = 1.0676\n",
      "t = 300, loss = 1.2948\n",
      "t = 400, loss = 0.9764\n",
      "t = 500, loss = 1.0907\n",
      "t = 600, loss = 1.0825\n",
      "t = 700, loss = 1.3072\n",
      "Got 32844 / 49000 correct (67.03)\n",
      "Starting epoch 4 / 5\n",
      "t = 100, loss = 0.8336\n",
      "t = 200, loss = 0.9232\n",
      "t = 300, loss = 1.1216\n",
      "t = 400, loss = 0.8111\n",
      "t = 500, loss = 0.9981\n",
      "t = 600, loss = 0.9331\n",
      "t = 700, loss = 1.1156\n",
      "Got 35841 / 49000 correct (73.14)\n",
      "Starting epoch 5 / 5\n",
      "t = 100, loss = 0.7581\n",
      "t = 200, loss = 0.8736\n",
      "t = 300, loss = 0.9404\n",
      "t = 400, loss = 0.6856\n",
      "t = 500, loss = 0.8556\n",
      "t = 600, loss = 0.7384\n",
      "t = 700, loss = 0.7927\n",
      "Got 35875 / 49000 correct (73.21)\n",
      "Checking accuracy on validation set\n",
      "Got 698 / 1000 correct (69.80)\n",
      "\n",
      "learning rate: 4.932353e-04\n",
      "Starting epoch 1 / 5\n",
      "t = 100, loss = 2.0814\n",
      "t = 200, loss = 2.1381\n",
      "t = 300, loss = 1.9018\n",
      "t = 400, loss = 1.7659\n",
      "t = 500, loss = 1.7596\n",
      "t = 600, loss = 1.6474\n",
      "t = 700, loss = 1.8767\n",
      "Got 21813 / 49000 correct (44.52)\n",
      "Starting epoch 2 / 5\n",
      "t = 100, loss = 1.4169\n",
      "t = 200, loss = 1.4214\n",
      "t = 300, loss = 1.5051\n",
      "t = 400, loss = 1.2834\n",
      "t = 500, loss = 1.2509\n",
      "t = 600, loss = 1.1952\n",
      "t = 700, loss = 1.6465\n",
      "Got 29336 / 49000 correct (59.87)\n",
      "Starting epoch 3 / 5\n",
      "t = 100, loss = 1.0995\n",
      "t = 200, loss = 1.0857\n",
      "t = 300, loss = 1.2361\n",
      "t = 400, loss = 1.0413\n",
      "t = 500, loss = 0.9873\n",
      "t = 600, loss = 0.9656\n",
      "t = 700, loss = 1.3678\n",
      "Got 33743 / 49000 correct (68.86)\n",
      "Starting epoch 4 / 5\n",
      "t = 100, loss = 0.7391\n",
      "t = 200, loss = 0.9145\n",
      "t = 300, loss = 1.1316\n",
      "t = 400, loss = 0.7829\n",
      "t = 500, loss = 0.8733\n",
      "t = 600, loss = 0.8479\n",
      "t = 700, loss = 0.9393\n",
      "Got 33834 / 49000 correct (69.05)\n",
      "Starting epoch 5 / 5\n",
      "t = 100, loss = 0.6116\n",
      "t = 200, loss = 0.8538\n",
      "t = 300, loss = 0.9688\n",
      "t = 400, loss = 0.6992\n",
      "t = 500, loss = 0.6370\n",
      "t = 600, loss = 0.6623\n",
      "t = 700, loss = 0.8026\n",
      "Got 38355 / 49000 correct (78.28)\n",
      "Checking accuracy on validation set\n",
      "Got 750 / 1000 correct (75.00)\n",
      "\n",
      "learning rate: 1.459654e-04\n",
      "Starting epoch 1 / 5\n",
      "t = 100, loss = 2.0399\n",
      "t = 200, loss = 1.8886\n",
      "t = 300, loss = 1.7306\n",
      "t = 400, loss = 1.5797\n",
      "t = 500, loss = 1.6516\n",
      "t = 600, loss = 1.6465\n",
      "t = 700, loss = 1.7299\n",
      "Got 23084 / 49000 correct (47.11)\n",
      "Starting epoch 2 / 5\n",
      "t = 100, loss = 1.2451\n",
      "t = 200, loss = 1.4800\n",
      "t = 300, loss = 1.4311\n",
      "t = 400, loss = 1.3016\n",
      "t = 500, loss = 1.3183\n",
      "t = 600, loss = 1.3311\n",
      "t = 700, loss = 1.6957\n",
      "Got 25750 / 49000 correct (52.55)\n",
      "Starting epoch 3 / 5\n",
      "t = 100, loss = 1.0863\n",
      "t = 200, loss = 1.2436\n",
      "t = 300, loss = 1.3607\n",
      "t = 400, loss = 1.1336\n",
      "t = 500, loss = 1.1174\n",
      "t = 600, loss = 1.2129\n",
      "t = 700, loss = 1.4654\n",
      "Got 30252 / 49000 correct (61.74)\n",
      "Starting epoch 4 / 5\n",
      "t = 100, loss = 1.0021\n",
      "t = 200, loss = 1.0609\n",
      "t = 300, loss = 1.1957\n",
      "t = 400, loss = 0.8675\n",
      "t = 500, loss = 0.9613\n",
      "t = 600, loss = 1.0015\n",
      "t = 700, loss = 1.1775\n",
      "Got 34443 / 49000 correct (70.29)\n",
      "Starting epoch 5 / 5\n",
      "t = 100, loss = 0.8401\n",
      "t = 200, loss = 0.8885\n",
      "t = 300, loss = 0.9787\n",
      "t = 400, loss = 0.7665\n",
      "t = 500, loss = 0.8127\n",
      "t = 600, loss = 0.8693\n",
      "t = 700, loss = 1.0276\n",
      "Got 36301 / 49000 correct (74.08)\n",
      "Checking accuracy on validation set\n",
      "Got 706 / 1000 correct (70.60)\n",
      "\n"
     ]
    }
   ],
   "metadata": {
    "collapsed": true
   }
  },
  {
   "source": [
    "### Describe what you did \n",
    "\n",
    "In the cell below you should write an explanation of what you did, any additional features that you implemented, and any visualizations or graphs that you make in the process of training and evaluating your network."
   ],
   "cell_type": "markdown",
   "metadata": {}
  },
  {
   "source": [
    "Tell us here!"
   ],
   "cell_type": "markdown",
   "metadata": {}
  },
  {
   "source": [
    "## Test set -- run this only once\n",
    "\n",
    "Now that we've gotten a result we're happy with, we test our final model on the test set (which you should store in best_model).  This would be the score we would achieve on a competition. Think about how this compares to your validation set accuracy."
   ],
   "cell_type": "markdown",
   "metadata": {}
  },
  {
   "execution_count": 39,
   "cell_type": "code",
   "source": [
    "check_accuracy(best_model, loader_test)"
   ],
   "outputs": [
    {
     "name": "stdout",
     "output_type": "stream",
     "text": [
      "Checking accuracy on test set\n"
     ]
    },
    {
     "name": "stderr",
     "output_type": "stream",
     "text": [
      "C:\\Users\\hanchaa\\anaconda3\\envs\\cs231n\\lib\\site-packages\\ipykernel_launcher.py:42: UserWarning: volatile was removed and now has no effect. Use `with torch.no_grad():` instead.\n"
     ]
    },
    {
     "name": "stdout",
     "output_type": "stream",
     "text": [
      "Got 7568 / 10000 correct (75.68)\n"
     ]
    },
    {
     "data": {
      "text/plain": "0.7568"
     },
     "execution_count": 39,
     "metadata": {},
     "output_type": "execute_result"
    }
   ],
   "metadata": {
    "collapsed": true
   }
  },
  {
   "source": [
    "## Going further with PyTorch\n",
    "\n",
    "The next assignment will make heavy use of PyTorch. You might also find it useful for your projects. \n",
    "\n",
    "Here's a nice tutorial by Justin Johnson that shows off some of PyTorch's features, like dynamic graphs and custom NN modules: http://pytorch.org/tutorials/beginner/pytorch_with_examples.html\n",
    "\n",
    "If you're interested in reinforcement learning for your final project, this is a good (more advanced) DQN tutorial in PyTorch: http://pytorch.org/tutorials/intermediate/reinforcement_q_learning.html"
   ],
   "cell_type": "markdown",
   "metadata": {}
  }
 ],
 "metadata": {
  "kernelspec": {
   "name": "conda-env-cs231n-py",
   "language": "python",
   "display_name": "Python [conda env:cs231n] *"
  },
  "language_info": {
   "mimetype": "text/x-python",
   "nbconvert_exporter": "python",
   "name": "python",
   "file_extension": ".py",
   "version": "3.5.0",
   "pygments_lexer": "ipython3",
   "codemirror_mode": {
    "version": 3,
    "name": "ipython"
   }
  }
 }
}