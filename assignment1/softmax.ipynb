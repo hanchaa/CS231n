{
 "nbformat_minor": 0,
 "nbformat": 4,
 "cells": [
  {
   "source": [
    "# Softmax exercise\n",
    "\n",
    "*Complete and hand in this completed worksheet (including its outputs and any supporting code outside of the worksheet) with your assignment submission. For more details see the [assignments page](http://vision.stanford.edu/teaching/cs231n/assignments.html) on the course website.*\n",
    "\n",
    "This exercise is analogous to the SVM exercise. You will:\n",
    "\n",
    "- implement a fully-vectorized **loss function** for the Softmax classifier\n",
    "- implement the fully-vectorized expression for its **analytic gradient**\n",
    "- **check your implementation** with numerical gradient\n",
    "- use a validation set to **tune the learning rate and regularization** strength\n",
    "- **optimize** the loss function with **SGD**\n",
    "- **visualize** the final learned weights\n"
   ],
   "cell_type": "markdown",
   "metadata": {}
  },
  {
   "execution_count": 1,
   "cell_type": "code",
   "source": [
    "from __future__ import print_function\n",
    "import random\n",
    "import numpy as np\n",
    "from cs231n.data_utils import load_CIFAR10\n",
    "import matplotlib.pyplot as plt\n",
    "\n",
    "\n",
    "%matplotlib inline\n",
    "plt.rcParams['figure.figsize'] = (10.0, 8.0) # set default size of plots\n",
    "plt.rcParams['image.interpolation'] = 'nearest'\n",
    "plt.rcParams['image.cmap'] = 'gray'\n",
    "\n",
    "# for auto-reloading extenrnal modules\n",
    "# see http://stackoverflow.com/questions/1907993/autoreload-of-modules-in-ipython\n",
    "%load_ext autoreload\n",
    "%autoreload 2"
   ],
   "outputs": [],
   "metadata": {
    "collapsed": false
   }
  },
  {
   "execution_count": 2,
   "cell_type": "code",
   "source": [
    "def get_CIFAR10_data(num_training=49000, num_validation=1000, num_test=1000, num_dev=500):\n",
    "    \"\"\"\n",
    "    Load the CIFAR-10 dataset from disk and perform preprocessing to prepare\n",
    "    it for the linear classifier. These are the same steps as we used for the\n",
    "    SVM, but condensed to a single function.  \n",
    "    \"\"\"\n",
    "    # Load the raw CIFAR-10 data\n",
    "    cifar10_dir = 'cs231n/datasets/cifar-10-batches-py'\n",
    "    X_train, y_train, X_test, y_test = load_CIFAR10(cifar10_dir)\n",
    "    \n",
    "    # subsample the data\n",
    "    mask = list(range(num_training, num_training + num_validation))\n",
    "    X_val = X_train[mask]\n",
    "    y_val = y_train[mask]\n",
    "    mask = list(range(num_training))\n",
    "    X_train = X_train[mask]\n",
    "    y_train = y_train[mask]\n",
    "    mask = list(range(num_test))\n",
    "    X_test = X_test[mask]\n",
    "    y_test = y_test[mask]\n",
    "    mask = np.random.choice(num_training, num_dev, replace=False)\n",
    "    X_dev = X_train[mask]\n",
    "    y_dev = y_train[mask]\n",
    "    \n",
    "    # Preprocessing: reshape the image data into rows\n",
    "    X_train = np.reshape(X_train, (X_train.shape[0], -1))\n",
    "    X_val = np.reshape(X_val, (X_val.shape[0], -1))\n",
    "    X_test = np.reshape(X_test, (X_test.shape[0], -1))\n",
    "    X_dev = np.reshape(X_dev, (X_dev.shape[0], -1))\n",
    "    \n",
    "    # Normalize the data: subtract the mean image\n",
    "    mean_image = np.mean(X_train, axis = 0)\n",
    "    X_train -= mean_image\n",
    "    X_val -= mean_image\n",
    "    X_test -= mean_image\n",
    "    X_dev -= mean_image\n",
    "    \n",
    "    # add bias dimension and transform into columns\n",
    "    X_train = np.hstack([X_train, np.ones((X_train.shape[0], 1))])\n",
    "    X_val = np.hstack([X_val, np.ones((X_val.shape[0], 1))])\n",
    "    X_test = np.hstack([X_test, np.ones((X_test.shape[0], 1))])\n",
    "    X_dev = np.hstack([X_dev, np.ones((X_dev.shape[0], 1))])\n",
    "    \n",
    "    return X_train, y_train, X_val, y_val, X_test, y_test, X_dev, y_dev\n",
    "\n",
    "\n",
    "# Invoke the above function to get our data.\n",
    "X_train, y_train, X_val, y_val, X_test, y_test, X_dev, y_dev = get_CIFAR10_data()\n",
    "print('Train data shape: ', X_train.shape)\n",
    "print('Train labels shape: ', y_train.shape)\n",
    "print('Validation data shape: ', X_val.shape)\n",
    "print('Validation labels shape: ', y_val.shape)\n",
    "print('Test data shape: ', X_test.shape)\n",
    "print('Test labels shape: ', y_test.shape)\n",
    "print('dev data shape: ', X_dev.shape)\n",
    "print('dev labels shape: ', y_dev.shape)"
   ],
   "outputs": [
    {
     "name": "stdout",
     "output_type": "stream",
     "text": [
      "Train data shape:  (49000, 3073)\n",
      "Train labels shape:  (49000,)\n",
      "Validation data shape:  (1000, 3073)\n",
      "Validation labels shape:  (1000,)\n",
      "Test data shape:  (1000, 3073)\n",
      "Test labels shape:  (1000,)\n",
      "dev data shape:  (500, 3073)\n",
      "dev labels shape:  (500,)\n"
     ]
    }
   ],
   "metadata": {
    "collapsed": false
   }
  },
  {
   "source": [
    "## Softmax Classifier\n",
    "\n",
    "Your code for this section will all be written inside **cs231n/classifiers/softmax.py**. \n"
   ],
   "cell_type": "markdown",
   "metadata": {}
  },
  {
   "execution_count": 3,
   "cell_type": "code",
   "source": [
    "# First implement the naive softmax loss function with nested loops.\n",
    "# Open the file cs231n/classifiers/softmax.py and implement the\n",
    "# softmax_loss_naive function.\n",
    "\n",
    "from cs231n.classifiers.softmax import softmax_loss_naive\n",
    "import time\n",
    "\n",
    "# Generate a random softmax weight matrix and use it to compute the loss.\n",
    "W = np.random.randn(3073, 10) * 0.0001\n",
    "loss, grad = softmax_loss_naive(W, X_dev, y_dev, 0.0)\n",
    "\n",
    "# As a rough sanity check, our loss should be something close to -log(0.1).\n",
    "print('loss: %f' % loss)\n",
    "print('sanity check: %f' % (-np.log(0.1)))"
   ],
   "outputs": [
    {
     "name": "stdout",
     "output_type": "stream",
     "text": [
      "loss: 2.329120\n",
      "sanity check: 2.302585\n"
     ]
    }
   ],
   "metadata": {
    "collapsed": false
   }
  },
  {
   "source": [
    "## Inline Question 1:\n",
    "Why do we expect our loss to be close to -log(0.1)? Explain briefly.**\n",
    "\n",
    "**Your answer:** *Fill this in*\n"
   ],
   "cell_type": "markdown",
   "metadata": {}
  },
  {
   "execution_count": 4,
   "cell_type": "code",
   "source": [
    "# Complete the implementation of softmax_loss_naive and implement a (naive)\n",
    "# version of the gradient that uses nested loops.\n",
    "loss, grad = softmax_loss_naive(W, X_dev, y_dev, 0.0)\n",
    "\n",
    "# As we did for the SVM, use numeric gradient checking as a debugging tool.\n",
    "# The numeric gradient should be close to the analytic gradient.\n",
    "from cs231n.gradient_check import grad_check_sparse\n",
    "f = lambda w: softmax_loss_naive(w, X_dev, y_dev, 0.0)[0]\n",
    "grad_numerical = grad_check_sparse(f, W, grad, 10)\n",
    "\n",
    "# similar to SVM case, do another gradient check with regularization\n",
    "loss, grad = softmax_loss_naive(W, X_dev, y_dev, 5e1)\n",
    "f = lambda w: softmax_loss_naive(w, X_dev, y_dev, 5e1)[0]\n",
    "grad_numerical = grad_check_sparse(f, W, grad, 10)"
   ],
   "outputs": [
    {
     "name": "stdout",
     "output_type": "stream",
     "text": [
      "numerical: -0.467590 analytic: -0.467590, relative error: 5.381175e-08\n",
      "numerical: -1.909463 analytic: -1.909463, relative error: 1.594684e-08\n",
      "numerical: -1.588769 analytic: -1.588770, relative error: 1.928482e-08\n",
      "numerical: -1.234331 analytic: -1.234331, relative error: 4.378124e-09\n",
      "numerical: 0.638766 analytic: 0.638766, relative error: 3.426508e-08\n",
      "numerical: 2.146443 analytic: 2.146442, relative error: 4.298895e-08\n",
      "numerical: -1.255577 analytic: -1.255577, relative error: 1.301836e-09\n",
      "numerical: 0.934864 analytic: 0.934864, relative error: 2.235640e-08\n",
      "numerical: 0.324645 analytic: 0.324645, relative error: 4.989939e-08\n",
      "numerical: -0.150477 analytic: -0.150477, relative error: 1.458485e-07\n",
      "numerical: -1.012418 analytic: -1.012418, relative error: 2.485174e-08\n",
      "numerical: -0.316716 analytic: -0.316716, relative error: 3.206047e-08\n",
      "numerical: 0.975619 analytic: 0.975619, relative error: 5.456884e-08\n",
      "numerical: -2.567477 analytic: -2.567477, relative error: 1.283594e-08\n",
      "numerical: -2.711368 analytic: -2.711368, relative error: 1.393656e-08\n",
      "numerical: 1.014421 analytic: 1.014421, relative error: 8.438876e-08\n",
      "numerical: -1.119355 analytic: -1.119355, relative error: 2.870099e-09\n",
      "numerical: 0.896795 analytic: 0.896795, relative error: 5.331484e-08\n",
      "numerical: 0.543473 analytic: 0.543473, relative error: 5.878701e-08\n",
      "numerical: -0.315747 analytic: -0.315747, relative error: 1.039834e-07\n"
     ]
    }
   ],
   "metadata": {
    "collapsed": false
   }
  },
  {
   "execution_count": 5,
   "cell_type": "code",
   "source": [
    "# Now that we have a naive implementation of the softmax loss function and its gradient,\n",
    "# implement a vectorized version in softmax_loss_vectorized.\n",
    "# The two versions should compute the same results, but the vectorized version should be\n",
    "# much faster.\n",
    "tic = time.time()\n",
    "loss_naive, grad_naive = softmax_loss_naive(W, X_dev, y_dev, 0.000005)\n",
    "toc = time.time()\n",
    "print('naive loss: %e computed in %fs' % (loss_naive, toc - tic))\n",
    "\n",
    "from cs231n.classifiers.softmax import softmax_loss_vectorized\n",
    "tic = time.time()\n",
    "loss_vectorized, grad_vectorized = softmax_loss_vectorized(W, X_dev, y_dev, 0.000005)\n",
    "toc = time.time()\n",
    "print('vectorized loss: %e computed in %fs' % (loss_vectorized, toc - tic))\n",
    "\n",
    "# As we did for the SVM, we use the Frobenius norm to compare the two versions\n",
    "# of the gradient.\n",
    "grad_difference = np.linalg.norm(grad_naive - grad_vectorized, ord='fro')\n",
    "print('Loss difference: %f' % np.abs(loss_naive - loss_vectorized))\n",
    "print('Gradient difference: %f' % grad_difference)"
   ],
   "outputs": [
    {
     "name": "stdout",
     "output_type": "stream",
     "text": [
      "naive loss: 2.329120e+00 computed in 0.044998s\n",
      "vectorized loss: 2.329120e+00 computed in 0.067001s\n",
      "Loss difference: 0.000000\n",
      "Gradient difference: 0.000000\n"
     ]
    }
   ],
   "metadata": {
    "collapsed": false
   }
  },
  {
   "execution_count": 6,
   "cell_type": "code",
   "source": [
    "# Use the validation set to tune hyperparameters (regularization strength and\n",
    "# learning rate). You should experiment with different ranges for the learning\n",
    "# rates and regularization strengths; if you are careful you should be able to\n",
    "# get a classification accuracy of over 0.35 on the validation set.\n",
    "from cs231n.classifiers import Softmax\n",
    "results = {}\n",
    "best_val = -1\n",
    "best_softmax = None\n",
    "learning_rates = [1e-7, 2.5e-7, 5e-7, 7.5e-7, 1e-6]\n",
    "regularization_strengths = [2e4, 2.5e4, 3e4, 3.5e4, 4e4, 4.5e4, 5e4]\n",
    "\n",
    "################################################################################\n",
    "# TODO:                                                                        #\n",
    "# Use the validation set to set the learning rate and regularization strength. #\n",
    "# This should be identical to the validation that you did for the SVM; save    #\n",
    "# the best trained softmax classifer in best_softmax.                          #\n",
    "################################################################################\n",
    "for lr in learning_rates:\n",
    "    for reg in regularization_strengths:\n",
    "        print('training lr %e, reg %e' % (lr, reg))\n",
    "        softmax = Softmax()\n",
    "\n",
    "        softmax.train(X_train, y_train, learning_rate=lr, reg=reg)\n",
    "        y_train_pred = softmax.predict(X_train)\n",
    "        train_accuracy = np.mean(y_train == y_train_pred)\n",
    "\n",
    "        y_val_pred = softmax.predict(X_val)\n",
    "        val_accuracy = np.mean(y_val == y_val_pred)\n",
    "\n",
    "        results[(lr, reg)] = (train_accuracy, val_accuracy)\n",
    "\n",
    "        if val_accuracy > best_val:\n",
    "            best_val = val_accuracy\n",
    "            best_softmax = softmax\n",
    "################################################################################\n",
    "#                              END OF YOUR CODE                                #\n",
    "################################################################################\n",
    "    \n",
    "# Print out results.\n",
    "for lr, reg in sorted(results):\n",
    "    train_accuracy, val_accuracy = results[(lr, reg)]\n",
    "    print('lr %e reg %e train accuracy: %f val accuracy: %f' % (\n",
    "                lr, reg, train_accuracy, val_accuracy))\n",
    "    \n",
    "print('best validation accuracy achieved during cross-validation: %f' % best_val)"
   ],
   "outputs": [
    {
     "name": "stdout",
     "output_type": "stream",
     "text": [
      "training lr 1.000000e-07, reg 2.000000e+04\n",
      "training lr 1.000000e-07, reg 2.500000e+04\n",
      "training lr 1.000000e-07, reg 3.000000e+04\n",
      "training lr 1.000000e-07, reg 3.500000e+04\n",
      "training lr 1.000000e-07, reg 4.000000e+04\n",
      "training lr 1.000000e-07, reg 4.500000e+04\n",
      "training lr 1.000000e-07, reg 5.000000e+04\n",
      "training lr 2.500000e-07, reg 2.000000e+04\n",
      "training lr 2.500000e-07, reg 2.500000e+04\n",
      "training lr 2.500000e-07, reg 3.000000e+04\n",
      "training lr 2.500000e-07, reg 3.500000e+04\n",
      "training lr 2.500000e-07, reg 4.000000e+04\n",
      "training lr 2.500000e-07, reg 4.500000e+04\n",
      "training lr 2.500000e-07, reg 5.000000e+04\n",
      "training lr 5.000000e-07, reg 2.000000e+04\n",
      "training lr 5.000000e-07, reg 2.500000e+04\n",
      "training lr 5.000000e-07, reg 3.000000e+04\n",
      "training lr 5.000000e-07, reg 3.500000e+04\n",
      "training lr 5.000000e-07, reg 4.000000e+04\n",
      "training lr 5.000000e-07, reg 4.500000e+04\n",
      "training lr 5.000000e-07, reg 5.000000e+04\n",
      "training lr 7.500000e-07, reg 2.000000e+04\n",
      "training lr 7.500000e-07, reg 2.500000e+04\n",
      "training lr 7.500000e-07, reg 3.000000e+04\n",
      "training lr 7.500000e-07, reg 3.500000e+04\n",
      "training lr 7.500000e-07, reg 4.000000e+04\n",
      "training lr 7.500000e-07, reg 4.500000e+04\n",
      "training lr 7.500000e-07, reg 5.000000e+04\n",
      "training lr 1.000000e-06, reg 2.000000e+04\n",
      "training lr 1.000000e-06, reg 2.500000e+04\n",
      "training lr 1.000000e-06, reg 3.000000e+04\n",
      "training lr 1.000000e-06, reg 3.500000e+04\n",
      "training lr 1.000000e-06, reg 4.000000e+04\n",
      "training lr 1.000000e-06, reg 4.500000e+04\n",
      "training lr 1.000000e-06, reg 5.000000e+04\n",
      "lr 1.000000e-07 reg 2.000000e+04 train accuracy: 0.145367 val accuracy: 0.142000\n",
      "lr 1.000000e-07 reg 2.500000e+04 train accuracy: 0.159449 val accuracy: 0.154000\n",
      "lr 1.000000e-07 reg 3.000000e+04 train accuracy: 0.158673 val accuracy: 0.161000\n",
      "lr 1.000000e-07 reg 3.500000e+04 train accuracy: 0.140878 val accuracy: 0.143000\n",
      "lr 1.000000e-07 reg 4.000000e+04 train accuracy: 0.162510 val accuracy: 0.150000\n",
      "lr 1.000000e-07 reg 4.500000e+04 train accuracy: 0.162469 val accuracy: 0.179000\n",
      "lr 1.000000e-07 reg 5.000000e+04 train accuracy: 0.165796 val accuracy: 0.171000\n",
      "lr 2.500000e-07 reg 2.000000e+04 train accuracy: 0.231020 val accuracy: 0.240000\n",
      "lr 2.500000e-07 reg 2.500000e+04 train accuracy: 0.226592 val accuracy: 0.234000\n",
      "lr 2.500000e-07 reg 3.000000e+04 train accuracy: 0.235633 val accuracy: 0.225000\n",
      "lr 2.500000e-07 reg 3.500000e+04 train accuracy: 0.251776 val accuracy: 0.248000\n",
      "lr 2.500000e-07 reg 4.000000e+04 train accuracy: 0.258265 val accuracy: 0.281000\n",
      "lr 2.500000e-07 reg 4.500000e+04 train accuracy: 0.274939 val accuracy: 0.291000\n",
      "lr 2.500000e-07 reg 5.000000e+04 train accuracy: 0.274939 val accuracy: 0.258000\n",
      "lr 5.000000e-07 reg 2.000000e+04 train accuracy: 0.296776 val accuracy: 0.285000\n",
      "lr 5.000000e-07 reg 2.500000e+04 train accuracy: 0.311531 val accuracy: 0.324000\n",
      "lr 5.000000e-07 reg 3.000000e+04 train accuracy: 0.314714 val accuracy: 0.323000\n",
      "lr 5.000000e-07 reg 3.500000e+04 train accuracy: 0.314531 val accuracy: 0.318000\n",
      "lr 5.000000e-07 reg 4.000000e+04 train accuracy: 0.300551 val accuracy: 0.317000\n",
      "lr 5.000000e-07 reg 4.500000e+04 train accuracy: 0.316592 val accuracy: 0.336000\n",
      "lr 5.000000e-07 reg 5.000000e+04 train accuracy: 0.305408 val accuracy: 0.305000\n",
      "lr 7.500000e-07 reg 2.000000e+04 train accuracy: 0.319592 val accuracy: 0.326000\n",
      "lr 7.500000e-07 reg 2.500000e+04 train accuracy: 0.320061 val accuracy: 0.332000\n",
      "lr 7.500000e-07 reg 3.000000e+04 train accuracy: 0.305959 val accuracy: 0.314000\n",
      "lr 7.500000e-07 reg 3.500000e+04 train accuracy: 0.316286 val accuracy: 0.337000\n",
      "lr 7.500000e-07 reg 4.000000e+04 train accuracy: 0.306776 val accuracy: 0.325000\n",
      "lr 7.500000e-07 reg 4.500000e+04 train accuracy: 0.296959 val accuracy: 0.299000\n",
      "lr 7.500000e-07 reg 5.000000e+04 train accuracy: 0.281102 val accuracy: 0.298000\n",
      "lr 1.000000e-06 reg 2.000000e+04 train accuracy: 0.313612 val accuracy: 0.330000\n",
      "lr 1.000000e-06 reg 2.500000e+04 train accuracy: 0.329469 val accuracy: 0.347000\n",
      "lr 1.000000e-06 reg 3.000000e+04 train accuracy: 0.314796 val accuracy: 0.318000\n",
      "lr 1.000000e-06 reg 3.500000e+04 train accuracy: 0.297531 val accuracy: 0.317000\n",
      "lr 1.000000e-06 reg 4.000000e+04 train accuracy: 0.310959 val accuracy: 0.319000\n",
      "lr 1.000000e-06 reg 4.500000e+04 train accuracy: 0.302755 val accuracy: 0.295000\n",
      "lr 1.000000e-06 reg 5.000000e+04 train accuracy: 0.298714 val accuracy: 0.317000\n",
      "best validation accuracy achieved during cross-validation: 0.347000\n"
     ]
    }
   ],
   "metadata": {
    "collapsed": false
   }
  },
  {
   "execution_count": 7,
   "cell_type": "code",
   "source": [
    "# evaluate on test set\n",
    "# Evaluate the best softmax on test set\n",
    "y_test_pred = best_softmax.predict(X_test)\n",
    "test_accuracy = np.mean(y_test == y_test_pred)\n",
    "print('softmax on raw pixels final test set accuracy: %f' % (test_accuracy, ))"
   ],
   "outputs": [
    {
     "name": "stdout",
     "output_type": "stream",
     "text": [
      "softmax on raw pixels final test set accuracy: 0.334000\n"
     ]
    }
   ],
   "metadata": {
    "collapsed": false
   }
  },
  {
   "execution_count": 8,
   "cell_type": "code",
   "source": [
    "# Visualize the learned weights for each class\n",
    "w = best_softmax.W[:-1,:] # strip out the bias\n",
    "w = w.reshape(32, 32, 3, 10)\n",
    "\n",
    "w_min, w_max = np.min(w), np.max(w)\n",
    "\n",
    "classes = ['plane', 'car', 'bird', 'cat', 'deer', 'dog', 'frog', 'horse', 'ship', 'truck']\n",
    "for i in range(10):\n",
    "    plt.subplot(2, 5, i + 1)\n",
    "    \n",
    "    # Rescale the weights to be between 0 and 255\n",
    "    wimg = 255.0 * (w[:, :, :, i].squeeze() - w_min) / (w_max - w_min)\n",
    "    plt.imshow(wimg.astype('uint8'))\n",
    "    plt.axis('off')\n",
    "    plt.title(classes[i])"
   ],
   "outputs": [
    {
     "data": {
      "text/plain": "<Figure size 720x576 with 10 Axes>",
      "image/png": "[encoded data removed]"
     },
     "metadata": {
      "needs_background": "light"
     },
     "output_type": "display_data"
    }
   ],
   "metadata": {
    "collapsed": false
   }
  }
 ],
 "metadata": {
  "kernelspec": {
   "name": "conda-env-cs231n-py",
   "language": "python",
   "display_name": "Python [conda env:cs231n] *"
  },
  "language_info": {
   "mimetype": "text/x-python",
   "nbconvert_exporter": "python",
   "name": "python",
   "file_extension": ".py",
   "version": "2.7.6",
   "pygments_lexer": "ipython2",
   "codemirror_mode": {
    "version": 2,
    "name": "ipython"
   }
  }
 }
}